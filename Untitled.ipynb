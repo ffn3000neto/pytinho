{
 "cells": [
  {
   "cell_type": "code",
   "execution_count": 10,
   "id": "bf640343",
   "metadata": {},
   "outputs": [
    {
     "name": "stdout",
     "output_type": "stream",
     "text": [
      "insira seu rm: 14640\n",
      "insira sua senha do portal: 230406\n"
     ]
    }
   ],
   "source": [
    "import pandas as pd\n",
    "import pyautogui as pg\n",
    "import pyperclip as pc\n",
    "from time import sleep as s\n",
    "\n",
    "rm = input('insira seu rm: ')\n",
    "senha = input('insira sua senha do portal: ')\n",
    "link_portal = \"https://www2.fiap.com.br/school/\"\n",
    "link_boletim = 'https://www2.fiap.com.br/school/alunos/boletim/BoletimAParitr2017.asp?item=0'\n",
    "\n",
    "#TEMPOS\n",
    "curtissimo = 0.5\n",
    "curto = 1\n",
    "medio = 2\n",
    "longo = 4\n",
    "longao = 6\n",
    "longoprakrl = 10\n",
    "\n",
    "def copia_cola(parada):\n",
    "    pc.copy(parada)\n",
    "    pg.hotkey('ctrl', 'v')\n",
    "\n",
    "pg.press('win')\n",
    "pg.write('edge')\n",
    "pg.press('enter')\n",
    "s(medio)\n",
    "copia_cola(link_portal)\n",
    "pg.press('enter')\n",
    "pg.press('tab')\n",
    "copia_cola(rm)\n",
    "pg.press('tab')\n",
    "copia_cola(senha)\n",
    "pg.press(['tab','enter'])\n",
    "s(longao)\n",
    "pg.hotkey('ctrl','t')\n",
    "s(medio)\n",
    "copia_cola(link_boletim)\n",
    "s(medio)\n",
    "pg.press('enter')\n"
   ]
  },
  {
   "cell_type": "code",
   "execution_count": null,
   "id": "5baa137e",
   "metadata": {},
   "outputs": [],
   "source": []
  }
 ],
 "metadata": {
  "kernelspec": {
   "display_name": "Python 3 (ipykernel)",
   "language": "python",
   "name": "python3"
  },
  "language_info": {
   "codemirror_mode": {
    "name": "ipython",
    "version": 3
   },
   "file_extension": ".py",
   "mimetype": "text/x-python",
   "name": "python",
   "nbconvert_exporter": "python",
   "pygments_lexer": "ipython3",
   "version": "3.9.12"
  }
 },
 "nbformat": 4,
 "nbformat_minor": 5
}
