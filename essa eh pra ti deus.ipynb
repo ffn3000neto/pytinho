{
 "cells": [
  {
   "cell_type": "code",
   "execution_count": 10,
   "id": "754b9292",
   "metadata": {},
   "outputs": [
    {
     "name": "stdout",
     "output_type": "stream",
     "text": [
      "insira seu rm: 14681\n",
      "insira sua senha do portal: 12050\n"
     ]
    },
    {
     "ename": "FailSafeException",
     "evalue": "PyAutoGUI fail-safe triggered from mouse moving to a corner of the screen. To disable this fail-safe, set pyautogui.FAILSAFE to False. DISABLING FAIL-SAFE IS NOT RECOMMENDED.",
     "output_type": "error",
     "traceback": [
      "\u001b[1;31m---------------------------------------------------------------------------\u001b[0m",
      "\u001b[1;31mFailSafeException\u001b[0m                         Traceback (most recent call last)",
      "Input \u001b[1;32mIn [10]\u001b[0m, in \u001b[0;36m<cell line: 18>\u001b[1;34m()\u001b[0m\n\u001b[0;32m     16\u001b[0m s(\u001b[38;5;241m2\u001b[39m)\n\u001b[0;32m     17\u001b[0m copia_cola(\u001b[38;5;124m\"\u001b[39m\u001b[38;5;124mhttps://www2.fiap.com.br/school/\u001b[39m\u001b[38;5;124m\"\u001b[39m)\n\u001b[1;32m---> 18\u001b[0m \u001b[43mpg\u001b[49m\u001b[38;5;241;43m.\u001b[39;49m\u001b[43mpress\u001b[49m\u001b[43m(\u001b[49m\u001b[38;5;124;43m'\u001b[39;49m\u001b[38;5;124;43menter\u001b[39;49m\u001b[38;5;124;43m'\u001b[39;49m\u001b[43m)\u001b[49m\n\u001b[0;32m     19\u001b[0m pg\u001b[38;5;241m.\u001b[39mpress(\u001b[38;5;124m'\u001b[39m\u001b[38;5;124mtab\u001b[39m\u001b[38;5;124m'\u001b[39m)\n\u001b[0;32m     20\u001b[0m copia_cola(rm)\n",
      "File \u001b[1;32mC:\\ProgramData\\Anaconda3\\lib\\site-packages\\pyautogui\\__init__.py:597\u001b[0m, in \u001b[0;36m_genericPyAutoGUIChecks.<locals>.wrapper\u001b[1;34m(*args, **kwargs)\u001b[0m\n\u001b[0;32m    595\u001b[0m \u001b[38;5;129m@functools\u001b[39m\u001b[38;5;241m.\u001b[39mwraps(wrappedFunction)\n\u001b[0;32m    596\u001b[0m \u001b[38;5;28;01mdef\u001b[39;00m \u001b[38;5;21mwrapper\u001b[39m(\u001b[38;5;241m*\u001b[39margs, \u001b[38;5;241m*\u001b[39m\u001b[38;5;241m*\u001b[39mkwargs):\n\u001b[1;32m--> 597\u001b[0m     \u001b[43mfailSafeCheck\u001b[49m\u001b[43m(\u001b[49m\u001b[43m)\u001b[49m\n\u001b[0;32m    598\u001b[0m     returnVal \u001b[38;5;241m=\u001b[39m wrappedFunction(\u001b[38;5;241m*\u001b[39margs, \u001b[38;5;241m*\u001b[39m\u001b[38;5;241m*\u001b[39mkwargs)\n\u001b[0;32m    599\u001b[0m     _handlePause(kwargs\u001b[38;5;241m.\u001b[39mget(\u001b[38;5;124m\"\u001b[39m\u001b[38;5;124m_pause\u001b[39m\u001b[38;5;124m\"\u001b[39m, \u001b[38;5;28;01mTrue\u001b[39;00m))\n",
      "File \u001b[1;32mC:\\ProgramData\\Anaconda3\\lib\\site-packages\\pyautogui\\__init__.py:1722\u001b[0m, in \u001b[0;36mfailSafeCheck\u001b[1;34m()\u001b[0m\n\u001b[0;32m   1720\u001b[0m \u001b[38;5;28;01mdef\u001b[39;00m \u001b[38;5;21mfailSafeCheck\u001b[39m():\n\u001b[0;32m   1721\u001b[0m     \u001b[38;5;28;01mif\u001b[39;00m FAILSAFE \u001b[38;5;129;01mand\u001b[39;00m \u001b[38;5;28mtuple\u001b[39m(position()) \u001b[38;5;129;01min\u001b[39;00m FAILSAFE_POINTS:\n\u001b[1;32m-> 1722\u001b[0m         \u001b[38;5;28;01mraise\u001b[39;00m FailSafeException(\n\u001b[0;32m   1723\u001b[0m             \u001b[38;5;124m\"\u001b[39m\u001b[38;5;124mPyAutoGUI fail-safe triggered from mouse moving to a corner of the screen. To disable this fail-safe, set pyautogui.FAILSAFE to False. DISABLING FAIL-SAFE IS NOT RECOMMENDED.\u001b[39m\u001b[38;5;124m\"\u001b[39m\n\u001b[0;32m   1724\u001b[0m         )\n",
      "\u001b[1;31mFailSafeException\u001b[0m: PyAutoGUI fail-safe triggered from mouse moving to a corner of the screen. To disable this fail-safe, set pyautogui.FAILSAFE to False. DISABLING FAIL-SAFE IS NOT RECOMMENDED."
     ]
    }
   ],
   "source": [
    "import pandas as pd\n",
    "import pyautogui as pg\n",
    "import pyperclip as pc\n",
    "from time import sleep as s\n",
    "\n",
    "rm = input('insira seu rm: ')\n",
    "senha = input('insira sua senha do portal: ')\n",
    "   \n",
    "def copia_cola(parada):\n",
    "    pc.copy(parada)\n",
    "    pg.hotkey('ctrl', 'v')\n",
    "\n",
    "pg.press('win')\n",
    "pg.write('edge')\n",
    "pg.press('enter')\n",
    "s(2)\n",
    "copia_cola(\"https://www2.fiap.com.br/school/\")\n",
    "pg.press('enter')\n",
    "pg.press('tab')\n",
    "copia_cola(rm)\n",
    "pg.press('tab')\n",
    "copia_cola(senha)\n",
    "pg.press(['tab','enter'])\n",
    "\n",
    "\n"
   ]
  },
  {
   "cell_type": "code",
   "execution_count": null,
   "id": "5c48c1af",
   "metadata": {},
   "outputs": [],
   "source": []
  },
  {
   "cell_type": "code",
   "execution_count": null,
   "id": "c2294f73",
   "metadata": {},
   "outputs": [],
   "source": []
  },
  {
   "cell_type": "code",
   "execution_count": null,
   "id": "92654688",
   "metadata": {},
   "outputs": [],
   "source": []
  }
 ],
 "metadata": {
  "kernelspec": {
   "display_name": "Python 3 (ipykernel)",
   "language": "python",
   "name": "python3"
  },
  "language_info": {
   "codemirror_mode": {
    "name": "ipython",
    "version": 3
   },
   "file_extension": ".py",
   "mimetype": "text/x-python",
   "name": "python",
   "nbconvert_exporter": "python",
   "pygments_lexer": "ipython3",
   "version": "3.9.12"
  }
 },
 "nbformat": 4,
 "nbformat_minor": 5
}
